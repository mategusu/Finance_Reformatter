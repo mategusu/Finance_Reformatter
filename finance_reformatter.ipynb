{
 "cells": [
  {
   "cell_type": "markdown",
   "id": "21fe7c21-a092-4859-bcf3-906695cf9cdc",
   "metadata": {},
   "source": [
    "#### Import"
   ]
  },
  {
   "cell_type": "code",
   "execution_count": 1,
   "id": "22752b4f-1452-4099-ac00-232a9071f997",
   "metadata": {},
   "outputs": [],
   "source": [
    "import pandas as pd\n",
    "import calendar\n",
    "import os\n",
    "import re"
   ]
  },
  {
   "cell_type": "code",
   "execution_count": null,
   "id": "28da2dab-4149-4c4a-b901-8524d46097f1",
   "metadata": {},
   "outputs": [],
   "source": [
    "year=2018\n",
    "path_to_file = 'Finance '+str(year)+'.xlsx' #Old format file"
   ]
  },
  {
   "cell_type": "code",
   "execution_count": null,
   "id": "7588d466-af9f-4145-9d2b-93ef350f0886",
   "metadata": {},
   "outputs": [],
   "source": [
    "workbook = pd.ExcelFile(path_to_file) #print(workbook.sheet_names)\n",
    "sheet = workbook.sheet_names[0]\n",
    "month_num=list(calendar.month_name).index(sheet) #print(sheet, month_num)"
   ]
  },
  {
   "cell_type": "code",
   "execution_count": 4,
   "id": "8f82c006-240f-4e2a-9c8c-25f136a75a7d",
   "metadata": {},
   "outputs": [],
   "source": [
    "df = pd.read_excel(workbook, sheet)"
   ]
  },
  {
   "cell_type": "markdown",
   "id": "6e298c29-eb4e-4ec1-aef7-e36736d1ae3d",
   "metadata": {},
   "source": [
    "#### 1. Remove total, category and useless rows"
   ]
  },
  {
   "cell_type": "code",
   "execution_count": null,
   "id": "b019803b-16ad-4d7d-8e2f-e4ac614a66a9",
   "metadata": {},
   "outputs": [],
   "source": [
    "cat_row_ind = df.index[df.iloc[:,1] == 'Cost'][0]\n",
    "total_row_ind = df.index[df.iloc[:,0] == 'Total'][0]\n",
    "df1 = df.drop(df.index[total_row_ind:])\n",
    "df2 = df1.drop(cat_row_ind)"
   ]
  },
  {
   "cell_type": "markdown",
   "id": "062a5fbb-9ffc-43b3-8f62-19c59e40122d",
   "metadata": {},
   "source": [
    "#### 2. Fix column names and switch to dates"
   ]
  },
  {
   "cell_type": "code",
   "execution_count": 6,
   "id": "9817b5bf-e6b0-4dee-a805-18a2ace0b032",
   "metadata": {},
   "outputs": [],
   "source": [
    "cols = df2.columns.tolist()\n",
    "coly = cols.copy()"
   ]
  },
  {
   "cell_type": "code",
   "execution_count": 7,
   "id": "ccad1388-9d0a-4651-b3be-5a6baacab5a6",
   "metadata": {},
   "outputs": [],
   "source": [
    "for r in range(len(cols)//2): #cols[2][:-(len(sheet)+1)]\n",
    "    coly[2*r] = cols[2*r][-2:].strip()+'/'+str(month_num)+'/'+str(year)\n",
    "    coly[2*r+1] = coly[2*r]\n",
    "df2.columns = coly\n",
    "#df2"
   ]
  },
  {
   "cell_type": "markdown",
   "id": "fd90ddab-2c7c-4a36-88c1-5f2a07fb7c2d",
   "metadata": {},
   "source": [
    "#### 3. Reshape, drop Nan, and convert to costs to floats (removing £)"
   ]
  },
  {
   "cell_type": "code",
   "execution_count": 8,
   "id": "7ad25522-14ea-42bd-a993-540373d20345",
   "metadata": {},
   "outputs": [],
   "source": [
    "reshape = []\n",
    "for date in df2.columns.unique():\n",
    "    items = df2[date].iloc[:, 0].tolist()  # 'item' values\n",
    "    costs = df2[date].iloc[:, 1].tolist()  # 'cost' values\n",
    "    for item, cost in zip(items, costs):\n",
    "        reshape.append({\"Date\": date, \"Item\": item, \"Cost\": cost})\n",
    "\n",
    "df3 = pd.DataFrame(reshape).dropna(subset=['Item', 'Cost'])\n",
    "#df3[\"Cost\"] = df3[\"Cost\"].str.replace(',', '').str.replace('£', '',regex=False).astype(float)\n",
    "df3[\"Cost\"] = df3[\"Cost\"].round(2)# Limit to 2 decimal values\n",
    "#df3"
   ]
  },
  {
   "cell_type": "markdown",
   "id": "7f88383c-2bb1-45d8-8803-3cff54f2b8d9",
   "metadata": {},
   "source": [
    "#### 4. Export back to .xlsx"
   ]
  },
  {
   "cell_type": "code",
   "execution_count": 9,
   "id": "a3b71368-8da0-41d5-8374-58bde6bb8a98",
   "metadata": {},
   "outputs": [],
   "source": [
    "#month_name = calendar.month_name[month_num]\n",
    "month_name = sheet\n",
    "filename = month_name+str(year)\n",
    "df3.to_excel(filename+'.xlsx',index=False)"
   ]
  },
  {
   "cell_type": "markdown",
   "id": "0e200820-0471-4808-9cdb-d25a567f983b",
   "metadata": {},
   "source": [
    "#### 5. Full function (for sheets)"
   ]
  },
  {
   "cell_type": "code",
   "execution_count": null,
   "id": "670ce8e2-b62c-4d03-ae74-b9ca98067229",
   "metadata": {},
   "outputs": [],
   "source": [
    "def finance_formatter_sheet(workbook,year,sheet):\n",
    "    month_num=str(list(calendar.month_name).index(sheet))\n",
    "    if len(month_num) == 1:\n",
    "        month_num = '0'+month_num\n",
    "    df = pd.read_excel(workbook, sheet)\n",
    "    # remove total, category and useless rows\n",
    "    cat_row_ind = df.index[df.iloc[:,1] == 'Cost'][0]\n",
    "    total_row_ind = df.index[df.iloc[:,0] == 'Total'][0]\n",
    "    df = df.drop(df.index[total_row_ind:])\n",
    "    df = df.drop(cat_row_ind)\n",
    "    # fix column names and switch to dates\n",
    "    cols = df.columns.tolist()\n",
    "    for r in range(len(cols)//2):\n",
    "        day = cols[2*r][-2:].strip()\n",
    "        if len(day) == 1:\n",
    "            day = '0'+day\n",
    "        cols[2*r] = day+'/'+month_num+'/'+str(year)\n",
    "        cols[2*r+1] = cols[2*r]\n",
    "    df.columns = cols\n",
    "    # reshape, drop nan, and convert to costs to floats (dropping £)\n",
    "    reshape = []\n",
    "    for date in df.columns.unique():\n",
    "        items = df[date].iloc[:, 0].tolist()\n",
    "        costs = df[date].iloc[:, 1].tolist()\n",
    "        for item, cost in zip(items, costs):\n",
    "            reshape.append({\"Date\": date, \"Item\": item, \"Cost\": cost})\n",
    "    \n",
    "    df = pd.DataFrame(reshape).dropna(subset=['Item', 'Cost'])\n",
    "    df = df.dropna(how='all')\n",
    "    df[\"Cost\"] = df[\"Cost\"].round(2)\n",
    "\n",
    "    return df"
   ]
  },
  {
   "cell_type": "markdown",
   "id": "8cf2d2a1-ce09-4eb2-819c-85ea86d1d19f",
   "metadata": {},
   "source": [
    "#### 6. Workbook expansion + export"
   ]
  },
  {
   "cell_type": "code",
   "execution_count": 8,
   "id": "67c77dd9-b5fe-45be-ba51-a1da0257c483",
   "metadata": {},
   "outputs": [],
   "source": [
    "def finance_formatter_workbook(path_to_folder,year):\n",
    "    path_to_file = str(path_to_folder)+' '+str(year)+'.xlsx'\n",
    "    workbook = pd.ExcelFile(path_to_file)\n",
    "    sheets = [s for s in workbook.sheet_names if s in list(calendar.month_name)] # Make sure the sheets are named by month\n",
    "    output_name = str(year)+'.xlsx' #'Finance '+\n",
    "    dataframes = []\n",
    "    for sheet in sheets:\n",
    "        df = finance_formatter_sheet(workbook,year,sheet)\n",
    "        dataframes.append(df)\n",
    "    with pd.ExcelWriter(output_name) as writer: #'New Format/'+\n",
    "        for df,sheet in zip(dataframes,sheets):\n",
    "            df.to_excel(writer,sheet_name=sheet,index=False)"
   ]
  },
  {
   "cell_type": "code",
   "execution_count": null,
   "id": "92bf9c33-8c33-4473-8896-5bf7984cf094",
   "metadata": {},
   "outputs": [],
   "source": [
    "dir_list = os.listdir() #add your path\n",
    "names = pd.DataFrame(dir_list)\n",
    "names = names[names[0].str.contains('Finance')]\n",
    "names = sorted(names[0].tolist())\n",
    "for l in range(len(names)):\n",
    "    line = re.sub('.xlsx', '', names[l])\n",
    "    line = re.sub('Finance ', '', line)\n",
    "    names[l] = line\n",
    "names.sort(reverse=False)\n",
    "names = list(map(int, names))\n",
    "years = [year for year in names if year in list(range(0,2100))] # guarantee files are named by year"
   ]
  }
 ],
 "metadata": {
  "kernelspec": {
   "display_name": "Python 3 (ipykernel)",
   "language": "python",
   "name": "python3"
  },
  "language_info": {
   "codemirror_mode": {
    "name": "ipython",
    "version": 3
   },
   "file_extension": ".py",
   "mimetype": "text/x-python",
   "name": "python",
   "nbconvert_exporter": "python",
   "pygments_lexer": "ipython3",
   "version": "3.11.5"
  }
 },
 "nbformat": 4,
 "nbformat_minor": 5
}
